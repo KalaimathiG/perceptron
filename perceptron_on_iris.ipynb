{
 "cells": [
  {
   "cell_type": "code",
   "execution_count": 60,
   "id": "finnish-indianapolis",
   "metadata": {},
   "outputs": [],
   "source": [
    "import pandas as pd\n",
    "import numpy as np"
   ]
  },
  {
   "cell_type": "code",
   "execution_count": 61,
   "id": "advisory-leader",
   "metadata": {},
   "outputs": [],
   "source": [
    "df = pd.read_csv(\"Iris.csv\",index_col='Id')"
   ]
  },
  {
   "cell_type": "code",
   "execution_count": 62,
   "id": "biological-parish",
   "metadata": {},
   "outputs": [
    {
     "data": {
      "text/html": [
       "<div>\n",
       "<style scoped>\n",
       "    .dataframe tbody tr th:only-of-type {\n",
       "        vertical-align: middle;\n",
       "    }\n",
       "\n",
       "    .dataframe tbody tr th {\n",
       "        vertical-align: top;\n",
       "    }\n",
       "\n",
       "    .dataframe thead th {\n",
       "        text-align: right;\n",
       "    }\n",
       "</style>\n",
       "<table border=\"1\" class=\"dataframe\">\n",
       "  <thead>\n",
       "    <tr style=\"text-align: right;\">\n",
       "      <th></th>\n",
       "      <th>SepalLengthCm</th>\n",
       "      <th>SepalWidthCm</th>\n",
       "      <th>PetalLengthCm</th>\n",
       "      <th>PetalWidthCm</th>\n",
       "      <th>Species</th>\n",
       "    </tr>\n",
       "    <tr>\n",
       "      <th>Id</th>\n",
       "      <th></th>\n",
       "      <th></th>\n",
       "      <th></th>\n",
       "      <th></th>\n",
       "      <th></th>\n",
       "    </tr>\n",
       "  </thead>\n",
       "  <tbody>\n",
       "    <tr>\n",
       "      <th>1</th>\n",
       "      <td>5.1</td>\n",
       "      <td>3.5</td>\n",
       "      <td>1.4</td>\n",
       "      <td>0.2</td>\n",
       "      <td>Iris-setosa</td>\n",
       "    </tr>\n",
       "    <tr>\n",
       "      <th>2</th>\n",
       "      <td>4.9</td>\n",
       "      <td>3.0</td>\n",
       "      <td>1.4</td>\n",
       "      <td>0.2</td>\n",
       "      <td>Iris-setosa</td>\n",
       "    </tr>\n",
       "    <tr>\n",
       "      <th>3</th>\n",
       "      <td>4.7</td>\n",
       "      <td>3.2</td>\n",
       "      <td>1.3</td>\n",
       "      <td>0.2</td>\n",
       "      <td>Iris-setosa</td>\n",
       "    </tr>\n",
       "  </tbody>\n",
       "</table>\n",
       "</div>"
      ],
      "text/plain": [
       "    SepalLengthCm  SepalWidthCm  PetalLengthCm  PetalWidthCm      Species\n",
       "Id                                                                       \n",
       "1             5.1           3.5            1.4           0.2  Iris-setosa\n",
       "2             4.9           3.0            1.4           0.2  Iris-setosa\n",
       "3             4.7           3.2            1.3           0.2  Iris-setosa"
      ]
     },
     "execution_count": 62,
     "metadata": {},
     "output_type": "execute_result"
    }
   ],
   "source": [
    "df.head(3)"
   ]
  },
  {
   "cell_type": "code",
   "execution_count": 63,
   "id": "comprehensive-hampton",
   "metadata": {},
   "outputs": [
    {
     "data": {
      "text/plain": [
       "Id\n",
       "1          Iris-setosa\n",
       "2          Iris-setosa\n",
       "3          Iris-setosa\n",
       "4          Iris-setosa\n",
       "5          Iris-setosa\n",
       "            ...       \n",
       "96     Iris-versicolor\n",
       "97     Iris-versicolor\n",
       "98     Iris-versicolor\n",
       "99     Iris-versicolor\n",
       "100    Iris-versicolor\n",
       "Name: Species, Length: 100, dtype: object"
      ]
     },
     "execution_count": 63,
     "metadata": {},
     "output_type": "execute_result"
    }
   ],
   "source": [
    "df.iloc[0:100 , 4]"
   ]
  },
  {
   "cell_type": "code",
   "execution_count": 64,
   "id": "vertical-wholesale",
   "metadata": {},
   "outputs": [],
   "source": [
    "y=np.where(df.iloc[0:100 , 4] == 'Iris-setosa',-1,1)"
   ]
  },
  {
   "cell_type": "code",
   "execution_count": 65,
   "id": "surrounded-bristol",
   "metadata": {},
   "outputs": [],
   "source": [
    "X=df.iloc[0:100,[1,3]]"
   ]
  },
  {
   "cell_type": "code",
   "execution_count": 66,
   "id": "optimum-lexington",
   "metadata": {},
   "outputs": [
    {
     "data": {
      "text/plain": [
       "Id\n",
       "1    3.5\n",
       "2    3.0\n",
       "3    3.2\n",
       "4    3.1\n",
       "5    3.6\n",
       "Name: SepalWidthCm, dtype: float64"
      ]
     },
     "execution_count": 66,
     "metadata": {},
     "output_type": "execute_result"
    }
   ],
   "source": [
    "X.iloc[0:5 , 0]"
   ]
  },
  {
   "cell_type": "code",
   "execution_count": 67,
   "id": "standard-islam",
   "metadata": {},
   "outputs": [],
   "source": [
    "import matplotlib.pyplot as plt"
   ]
  },
  {
   "cell_type": "code",
   "execution_count": 68,
   "id": "gentle-refrigerator",
   "metadata": {},
   "outputs": [
    {
     "data": {
      "image/png": "[encoded data removed]",
      "text/plain": [
       "<Figure size 432x288 with 1 Axes>"
      ]
     },
     "metadata": {
      "needs_background": "light"
     },
     "output_type": "display_data"
    }
   ],
   "source": [
    "plt.scatter(X.iloc[0:50,0],X.iloc[0:50,1],marker='o',label='setosa')\n",
    "plt.scatter(X.iloc[50:,0],X.iloc[50:,1],marker='+',label='versicolor')\n",
    "plt.xlabel('sepal length [cm]')\n",
    "plt.ylabel('petal length [cm]')\n",
    "plt.legend(loc='upper left')\n",
    "plt.show()"
   ]
  },
  {
   "cell_type": "code",
   "execution_count": 81,
   "id": "honey-order",
   "metadata": {},
   "outputs": [],
   "source": [
    "import perceptron_algorithm as pa"
   ]
  },
  {
   "cell_type": "code",
   "execution_count": 82,
   "id": "representative-constant",
   "metadata": {},
   "outputs": [],
   "source": [
    "ppn = pa.Perceptron(eta=0.1, n_iter=10)\n",
    "#X=X.astype('<U32')"
   ]
  },
  {
   "cell_type": "code",
   "execution_count": 83,
   "id": "stock-penetration",
   "metadata": {},
   "outputs": [
    {
     "data": {
      "text/plain": [
       "<perceptron_algorithm.Perceptron at 0x1bbc9553bc8>"
      ]
     },
     "execution_count": 83,
     "metadata": {},
     "output_type": "execute_result"
    }
   ],
   "source": [
    "ppn.fit(X.to_numpy(),y)"
   ]
  },
  {
   "cell_type": "code",
   "execution_count": 85,
   "id": "passing-toyota",
   "metadata": {},
   "outputs": [
    {
     "data": {
      "image/png": "[encoded data removed]",
      "text/plain": [
       "<Figure size 432x288 with 1 Axes>"
      ]
     },
     "metadata": {
      "needs_background": "light"
     },
     "output_type": "display_data"
    }
   ],
   "source": [
    "plt.plot(range(1, len(ppn.errors_) + 1),ppn.errors_, marker='o')\n",
    "plt.xlabel('Epochs')\n",
    "plt.ylabel('Number of updates')\n",
    "plt.show()"
   ]
  },
  {
   "cell_type": "code",
   "execution_count": 90,
   "id": "young-handle",
   "metadata": {},
   "outputs": [],
   "source": [
    "from matplotlib.colors import ListedColormap\n",
    "def plot_decision_regions(X, y, classifier, resolution=0.02):\n",
    "            # setup marker generator and color map\n",
    "            markers = ('s', 'x', 'o', '^', 'v')\n",
    "            colors = ('red', 'blue', 'lightgreen', 'gray', 'cyan')\n",
    "            cmap = ListedColormap(colors[:len(np.unique(y))])\n",
    "            # plot the decision surface\n",
    "            x1_min, x1_max = X[:, 0].min() - 1, X[:, 0].max() + 1\n",
    "            x2_min, x2_max = X[:, 1].min() - 1, X[:, 1].max() + 1\n",
    "            xx1, xx2 = np.meshgrid(np.arange(x1_min, x1_max, resolution),\n",
    "            np.arange(x2_min, x2_max, resolution))\n",
    "            Z = classifier.predict(np.array([xx1.ravel(), xx2.ravel()]).T)\n",
    "            Z = Z.reshape(xx1.shape)\n",
    "            plt.contourf(xx1, xx2, Z, alpha=0.3, cmap=cmap)\n",
    "            plt.xlim(xx1.min(), xx1.max())\n",
    "            plt.ylim(xx2.min(), xx2.max())\n",
    "            # plot class samples\n",
    "            for idx, cl in enumerate(np.unique(y)):\n",
    "                plt.scatter(x=X[y == cl, 0], y=X[y == cl, 1], alpha=0.8,c=colors[idx],marker=markers[idx],label=cl,edgecolor='black')\n",
    "            "
   ]
  },
  {
   "cell_type": "code",
   "execution_count": 93,
   "id": "official-baseball",
   "metadata": {},
   "outputs": [
    {
     "data": {
      "image/png": "[encoded data removed]",
      "text/plain": [
       "<Figure size 432x288 with 1 Axes>"
      ]
     },
     "metadata": {
      "needs_background": "light"
     },
     "output_type": "display_data"
    }
   ],
   "source": [
    "plot_decision_regions(X.to_numpy(), y, classifier=ppn)\n",
    "plt.xlabel('sepal length [cm]')\n",
    "plt.ylabel('petal length [cm]')\n",
    "plt.legend(loc='upper left')\n",
    "plt.show()"
   ]
  },
  {
   "cell_type": "code",
   "execution_count": null,
   "id": "quiet-optimization",
   "metadata": {},
   "outputs": [],
   "source": []
  }
 ],
 "metadata": {
  "kernelspec": {
   "display_name": "Python 3",
   "language": "python",
   "name": "python3"
  },
  "language_info": {
   "codemirror_mode": {
    "name": "ipython",
    "version": 3
   },
   "file_extension": ".py",
   "mimetype": "text/x-python",
   "name": "python",
   "nbconvert_exporter": "python",
   "pygments_lexer": "ipython3",
   "version": "3.7.9"
  }
 },
 "nbformat": 4,
 "nbformat_minor": 5
}
